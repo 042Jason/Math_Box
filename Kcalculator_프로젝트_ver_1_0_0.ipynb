{
  "nbformat": 4,
  "nbformat_minor": 0,
  "metadata": {
    "colab": {
      "provenance": [],
      "authorship_tag": "ABX9TyPIuxJ3Yq9vxUxq2N3stAsL",
      "include_colab_link": true
    },
    "kernelspec": {
      "name": "python3",
      "display_name": "Python 3"
    },
    "language_info": {
      "name": "python"
    },
    "accelerator": "GPU",
    "gpuClass": "standard"
  },
  "cells": [
    {
      "cell_type": "markdown",
      "metadata": {
        "id": "view-in-github",
        "colab_type": "text"
      },
      "source": [
        "<a href=\"https://colab.research.google.com/github/042Jason/Math_Box/blob/master/Kcalculator_%ED%94%84%EB%A1%9C%EC%A0%9D%ED%8A%B8_ver_1_0_0.ipynb\" target=\"_parent\"><img src=\"https://colab.research.google.com/assets/colab-badge.svg\" alt=\"Open In Colab\"/></a>"
      ]
    },
    {
      "cell_type": "code",
      "source": [
        "# 한글 폰트 설치하기 \n",
        "!apt install fonts-nanum -y\n",
        "\n",
        "import matplotlib\n",
        "import matplotlib.pyplot as plt\n",
        "import matplotlib.font_manager as fm\n",
        "\n",
        "# 한글 폰트 설정하기\n",
        "fontpath = '/usr/share/fonts/truetype/nanum/NanumBarunGothic.ttf'\n",
        "font = fm.FontProperties(fname=fontpath, size=10)\n",
        "plt.rc('font', family='NanumBarunGothic')\n",
        "matplotlib.font_manager._rebuild()"
      ],
      "metadata": {
        "id": "ZTxvUb3QjuvM",
        "colab": {
          "base_uri": "https://localhost:8080/"
        },
        "outputId": "fe164c4b-b855-436b-e59c-0430361a746a"
      },
      "execution_count": 1,
      "outputs": [
        {
          "output_type": "stream",
          "name": "stdout",
          "text": [
            "Reading package lists... Done\n",
            "Building dependency tree       \n",
            "Reading state information... Done\n",
            "fonts-nanum is already the newest version (20170925-1).\n",
            "The following package was automatically installed and is no longer required:\n",
            "  libnvidia-common-460\n",
            "Use 'apt autoremove' to remove it.\n",
            "0 upgraded, 0 newly installed, 0 to remove and 20 not upgraded.\n"
          ]
        }
      ]
    },
    {
      "cell_type": "code",
      "source": [
        "# bing 다운로드 모듈\n",
        "!git clone https://github.com/ndb796/bing_image_downloader"
      ],
      "metadata": {
        "colab": {
          "base_uri": "https://localhost:8080/"
        },
        "id": "0cUkBqPTP1dD",
        "outputId": "e940cb29-058b-4c10-fcd0-b29e802c6b83"
      },
      "execution_count": 2,
      "outputs": [
        {
          "output_type": "stream",
          "name": "stdout",
          "text": [
            "Cloning into 'bing_image_downloader'...\n",
            "remote: Enumerating objects: 86, done.\u001b[K\n",
            "remote: Counting objects: 100% (22/22), done.\u001b[K\n",
            "remote: Compressing objects: 100% (12/12), done.\u001b[K\n",
            "remote: Total 86 (delta 17), reused 10 (delta 10), pack-reused 64\u001b[K\n",
            "Unpacking objects: 100% (86/86), done.\n"
          ]
        }
      ]
    },
    {
      "cell_type": "code",
      "source": [
        "import os\n",
        "import shutil\n",
        "from bing_image_downloader.bing_image_downloader import downloader\n",
        "\n",
        "\n",
        "directory_list = [\n",
        "    './custom_dataset/train/',\n",
        "    './custom_dataset/test/',\n",
        "]\n",
        "\n",
        "# 초기 디렉토리 만들기\n",
        "for directory in directory_list:\n",
        "    if not os.path.isdir(directory):\n",
        "        os.makedirs(directory)\n",
        "\n",
        "# 수집한 이미지를 학습 데이터와 평가 데이터로 구분하는 함수\n",
        "def dataset_split(query, train_cnt):\n",
        "    # 학습 및 평가 데이터셋 디렉토리 만들기\n",
        "    for directory in directory_list:\n",
        "        if not os.path.isdir(directory + '/' + query):\n",
        "            os.makedirs(directory + '/' + query)\n",
        "    # 학습 및 평가 데이터셋 준비하기\n",
        "    cnt = 0\n",
        "    for file_name in os.listdir(query):\n",
        "        if cnt < train_cnt:\n",
        "            print(f'[Train Dataset] {file_name}')\n",
        "            shutil.move(query + '/' + file_name, './custom_dataset/train/' + query + '/' + file_name)\n",
        "        else:\n",
        "            print(f'[Test Dataset] {file_name}')\n",
        "            shutil.move(query + '/' + file_name, './custom_dataset/test/' + query + '/' + file_name)\n",
        "        cnt += 1\n",
        "    shutil.rmtree(query)"
      ],
      "metadata": {
        "id": "BXt6ksyqP1nl"
      },
      "execution_count": 3,
      "outputs": []
    },
    {
      "cell_type": "code",
      "source": [
        "query = '떡볶이'\n",
        "downloader.download(query, limit=40,  output_dir='./', adult_filter_off=True, force_replace=False, timeout=60)\n",
        "dataset_split(query, 30)"
      ],
      "metadata": {
        "colab": {
          "base_uri": "https://localhost:8080/"
        },
        "id": "InX4ATzQP1rP",
        "outputId": "9ca8bd39-7986-4d44-c93a-4909f2b47c6e"
      },
      "execution_count": 4,
      "outputs": [
        {
          "output_type": "stream",
          "name": "stdout",
          "text": [
            "[Info] Indexing page: 1\n",
            "[Info] Indexed 35 Images on Page 1.\n",
            "===============================================\n",
            "#1 이미지 다운로드 (https://i.ytimg.com/vi/xaELul-EQLw/maxresdefault.jpg)\n",
            "#1 파일 다운로드가 완료되었습니다.\n",
            "#2 이미지 다운로드 (https://i.ytimg.com/vi/zw-6bPLmsLY/maxresdefault.jpg)\n",
            "#2 파일 다운로드가 완료되었습니다.\n",
            "#3 이미지 다운로드 (http://shop.biumfood.com/upload/1580979070image_product095.jpg)\n",
            "#3 파일 다운로드가 완료되었습니다.\n",
            "#4 이미지 다운로드 (https://mp-seoul-image-production-s3.mangoplate.com/added_restaurants/605910_1472839314860753.jpg)\n",
            "#4 파일 다운로드가 완료되었습니다.\n",
            "#5 이미지 다운로드 (https://shop.biumfood.com/upload/images/20200206175241_295640.jpg)\n",
            "#5 파일 다운로드가 완료되었습니다.\n",
            "#6 이미지 다운로드 (http://gamtan.co.kr/main/images/common/img_intro01.png)\n",
            "#6 파일 다운로드가 완료되었습니다.\n",
            "#7 이미지 다운로드 (https://recipe1.ezmember.co.kr/cache/recipe/2019/06/21/4b7bc76829676b0edd96b9e4d4b9473e1.jpg)\n",
            "#7 파일 다운로드가 완료되었습니다.\n",
            "#8 이미지 다운로드 (http://cfile3.uf.tistory.com/original/16768F244A6B4E3F037698)\n",
            "#8 파일 다운로드가 완료되었습니다.\n",
            "#9 이미지 다운로드 (https://mp-seoul-image-production-s3.mangoplate.com/added_restaurants/522207_1473142578285001.jpg)\n",
            "#9 파일 다운로드가 완료되었습니다.\n",
            "#10 이미지 다운로드 (http://shop.biumfood.com/upload/1580979074image_product091.jpg)\n",
            "#10 파일 다운로드가 완료되었습니다.\n",
            "#11 이미지 다운로드 (http://recipe1.ezmember.co.kr/cache/recipe/2019/03/30/740adce467a0f365e4724f903f353dc61.jpg)\n",
            "#11 파일 다운로드가 완료되었습니다.\n",
            "#12 이미지 다운로드 (https://recipe1.ezmember.co.kr/cache/recipe/2019/01/18/1dec6feb82ba8065185670cb0950cd0a1.jpg)\n",
            "#12 파일 다운로드가 완료되었습니다.\n",
            "#13 이미지 다운로드 (http://recipe1.ezmember.co.kr/cache/recipe/2019/03/06/4f909b6e7814eb168ff504c6fa296a6a1.jpg)\n",
            "#13 파일 다운로드가 완료되었습니다.\n",
            "#14 이미지 다운로드 (https://homecuisine.co.kr/files/attach/images/140/382/090/1b9cd930ee5e2cdd6cc0eeb8b07d54cb.JPG)\n",
            "#14 파일 다운로드가 완료되었습니다.\n",
            "#15 이미지 다운로드 (https://moashop.com.au/wp-content/uploads/2020/04/DSC_5751.jpg)\n",
            "#15 파일 다운로드가 완료되었습니다.\n",
            "#16 이미지 다운로드 (https://image.ytn.co.kr/general/jpg/2018/0809/201808091525069109_d.jpg)\n",
            "#16 파일 다운로드가 완료되었습니다.\n",
            "#17 이미지 다운로드 (https://i.ytimg.com/vi/aIgelu5E608/maxresdefault.jpg)\n",
            "#17 파일 다운로드가 완료되었습니다.\n",
            "#18 이미지 다운로드 (https://i.ytimg.com/vi/9ajVvLZ1wPQ/maxresdefault.jpg)\n",
            "#18 파일 다운로드가 완료되었습니다.\n",
            "#19 이미지 다운로드 (https://i.ytimg.com/vi/dYTCtGP3G_w/maxresdefault.jpg)\n",
            "#19 파일 다운로드가 완료되었습니다.\n",
            "#20 이미지 다운로드 (https://img1.daumcdn.net/thumb/R1280x0/?scode=mtistory2&amp;fname=https:%2F%2Fblog.kakaocdn.net%2Fdn%2FRt162%2FbtqR9lMjLOY%2FvdEyTptxA5vHr8hXnKOpBk%2Fimg.jpg)\n",
            "[Info] Issue getting: https://img1.daumcdn.net/thumb/R1280x0/?scode=mtistory2&amp;fname=https:%2F%2Fblog.kakaocdn.net%2Fdn%2FRt162%2FbtqR9lMjLOY%2FvdEyTptxA5vHr8hXnKOpBk%2Fimg.jpg\n",
            "[Error] HTTP Error 403: Forbidden\n",
            "#20 이미지 다운로드 (https://i.ytimg.com/vi/XVZxYbZnnGk/maxresdefault.jpg)\n",
            "#20 파일 다운로드가 완료되었습니다.\n",
            "#21 이미지 다운로드 (https://t1.daumcdn.net/cfile/tistory/2214863D5923D49F2B)\n",
            "#21 파일 다운로드가 완료되었습니다.\n",
            "#22 이미지 다운로드 (https://i.ytimg.com/vi/k9nUObtqppM/maxresdefault.jpg)\n",
            "#22 파일 다운로드가 완료되었습니다.\n",
            "#23 이미지 다운로드 (http://recipe1.ezmember.co.kr/cache/recipe/2015/10/28/100915a352dd42d3f63872e05b8bd5b31.jpg)\n",
            "#23 파일 다운로드가 완료되었습니다.\n",
            "#24 이미지 다운로드 (https://3.bp.blogspot.com/-ucA__-Iita4/V6eP1AJ41LI/AAAAAAAAC9s/qGc-gP9H5V0ZLZMBhoyOVnN022l2OarTgCLcB/s1600/DSC_4279.JPG)\n",
            "#24 파일 다운로드가 완료되었습니다.\n",
            "#25 이미지 다운로드 (http://shop.biumfood.com/upload/1535360125_5211289.jpg)\n",
            "#25 파일 다운로드가 완료되었습니다.\n",
            "#26 이미지 다운로드 (https://recipe1.ezmember.co.kr/cache/recipe/2020/01/26/c11b0e541d560a52f10524b05783de3c1.jpg)\n",
            "#26 파일 다운로드가 완료되었습니다.\n",
            "#27 이미지 다운로드 (https://modo-phinf.pstatic.net/20160112_12/1452588523652Unxi8_JPEG/mosaU3N6MD.jpeg?type=w1100)\n",
            "#27 파일 다운로드가 완료되었습니다.\n",
            "#28 이미지 다운로드 (https://shopping-phinf.pstatic.net/main_1486208/14862087159.20180908035200.jpg)\n",
            "#28 파일 다운로드가 완료되었습니다.\n",
            "#29 이미지 다운로드 (http://img-cf.kurly.com/shop/data/goodsview/20200609/gv30000099867_1.jpg)\n",
            "#29 파일 다운로드가 완료되었습니다.\n",
            "#30 이미지 다운로드 (https://i.ytimg.com/vi/KOUX4TfqqCI/maxresdefault.jpg)\n",
            "#30 파일 다운로드가 완료되었습니다.\n",
            "#31 이미지 다운로드 (https://img0.yna.co.kr/photo/cms/2020/04/08/15/PCM20200408000215505_P4.jpg)\n",
            "#31 파일 다운로드가 완료되었습니다.\n",
            "#32 이미지 다운로드 (https://i.ytimg.com/vi/8dLaAuVgTvY/maxresdefault.jpg)\n",
            "#32 파일 다운로드가 완료되었습니다.\n",
            "#33 이미지 다운로드 (http://cfile4.uf.tistory.com/image/1263144E50D3D3C82AF02D)\n",
            "#33 파일 다운로드가 완료되었습니다.\n",
            "#34 이미지 다운로드 (https://i.pinimg.com/originals/b0/48/6e/b0486e9bb86193be60f7776d328b9368.jpg)\n",
            "#34 파일 다운로드가 완료되었습니다.\n",
            "[Info] Done. Downloaded 34 images.\n",
            "[Info] Indexing page: 2\n",
            "[Info] Indexed 35 Images on Page 2.\n",
            "===============================================\n",
            "#35 이미지 다운로드 (https://i.ytimg.com/vi/xaELul-EQLw/maxresdefault.jpg)\n",
            "#35 파일 다운로드가 완료되었습니다.\n",
            "#36 이미지 다운로드 (https://i.ytimg.com/vi/zw-6bPLmsLY/maxresdefault.jpg)\n",
            "#36 파일 다운로드가 완료되었습니다.\n",
            "#37 이미지 다운로드 (http://shop.biumfood.com/upload/1580979070image_product095.jpg)\n",
            "#37 파일 다운로드가 완료되었습니다.\n",
            "#38 이미지 다운로드 (https://mp-seoul-image-production-s3.mangoplate.com/added_restaurants/605910_1472839314860753.jpg)\n",
            "#38 파일 다운로드가 완료되었습니다.\n",
            "#39 이미지 다운로드 (https://shop.biumfood.com/upload/images/20200206175241_295640.jpg)\n",
            "#39 파일 다운로드가 완료되었습니다.\n",
            "#40 이미지 다운로드 (http://gamtan.co.kr/main/images/common/img_intro01.png)\n",
            "#40 파일 다운로드가 완료되었습니다.\n",
            "===============================================\n",
            "[Info] Done. Downloaded 40 images.\n",
            "[Train Dataset] image_33.jpg\n",
            "[Train Dataset] image_13.jpg\n",
            "[Train Dataset] image_5.jpg\n",
            "[Train Dataset] image_26.jpg\n",
            "[Train Dataset] image_19.jpg\n",
            "[Train Dataset] image_31.jpg\n",
            "[Train Dataset] image_27.jpeg\n",
            "[Train Dataset] image_8.jpg\n",
            "[Train Dataset] image_2.jpg\n",
            "[Train Dataset] image_16.jpg\n",
            "[Train Dataset] image_6.png\n",
            "[Train Dataset] image_21.jpg\n",
            "[Train Dataset] image_32.jpg\n",
            "[Train Dataset] image_34.jpg\n",
            "[Train Dataset] image_14.JPG\n",
            "[Train Dataset] image_28.jpg\n",
            "[Train Dataset] image_38.jpg\n",
            "[Train Dataset] image_36.jpg\n",
            "[Train Dataset] image_40.png\n",
            "[Train Dataset] image_24.JPG\n",
            "[Train Dataset] image_20.jpg\n",
            "[Train Dataset] image_23.jpg\n",
            "[Train Dataset] image_30.jpg\n",
            "[Train Dataset] image_10.jpg\n",
            "[Train Dataset] image_1.jpg\n",
            "[Train Dataset] image_7.jpg\n",
            "[Train Dataset] image_25.jpg\n",
            "[Train Dataset] image_17.jpg\n",
            "[Train Dataset] image_22.jpg\n",
            "[Train Dataset] image_4.jpg\n",
            "[Test Dataset] image_15.jpg\n",
            "[Test Dataset] image_18.jpg\n",
            "[Test Dataset] image_37.jpg\n",
            "[Test Dataset] image_35.jpg\n",
            "[Test Dataset] image_29.jpg\n",
            "[Test Dataset] image_12.jpg\n",
            "[Test Dataset] image_39.jpg\n",
            "[Test Dataset] image_3.jpg\n",
            "[Test Dataset] image_9.jpg\n",
            "[Test Dataset] image_11.jpg\n"
          ]
        }
      ]
    },
    {
      "cell_type": "code",
      "source": [
        "query = '치킨'\n",
        "downloader.download(query, limit=40,  output_dir='./', adult_filter_off=True, force_replace=False, timeout=60)\n",
        "dataset_split(query, 30)"
      ],
      "metadata": {
        "colab": {
          "base_uri": "https://localhost:8080/"
        },
        "id": "S82Bju-aP1uR",
        "outputId": "11767cab-6e33-4154-c5dc-cc04223c44f5"
      },
      "execution_count": 5,
      "outputs": [
        {
          "output_type": "stream",
          "name": "stdout",
          "text": [
            "[Info] Indexing page: 1\n",
            "[Info] Indexed 35 Images on Page 1.\n",
            "===============================================\n",
            "#1 이미지 다운로드 (http://cdnweb01.wikitree.co.kr/webdata/editor/201903/20/img_20190320202619_7fe26bf2.jpg)\n",
            "#1 파일 다운로드가 완료되었습니다.\n",
            "#2 이미지 다운로드 (http://www.urbanbrush.net/web/wp-content/uploads/edd/2017/11/batch_DSC02138-1560x1040.jpg)\n",
            "#2 파일 다운로드가 완료되었습니다.\n",
            "#3 이미지 다운로드 (https://cdn.pixabay.com/photo/2015/02/19/08/26/chicken-641881_960_720.jpg)\n",
            "#3 파일 다운로드가 완료되었습니다.\n",
            "#4 이미지 다운로드 (https://barunchicken.com/wp-content/uploads/2021/04/반반치킨.jpg)\n",
            "[Info] Issue getting: https://barunchicken.com/wp-content/uploads/2021/04/반반치킨.jpg\n",
            "[Error] 'ascii' codec can't encode characters in position 32-35: ordinal not in range(128)\n",
            "#4 이미지 다운로드 (https://recipe1.ezmember.co.kr/cache/recipe/2016/05/17/dc857743ad48782db4c8bcfe5d497be21.jpg)\n",
            "#4 파일 다운로드가 완료되었습니다.\n",
            "#5 이미지 다운로드 (https://t1.daumcdn.net/cfile/tistory/216F1D4258BAA61B0B)\n",
            "#5 파일 다운로드가 완료되었습니다.\n",
            "#6 이미지 다운로드 (https://t1.daumcdn.net/cfile/tistory/241F4235591696D21E)\n",
            "#6 파일 다운로드가 완료되었습니다.\n",
            "#7 이미지 다운로드 (https://img2.quasarzone.com/editor/2020/09/16/b72acbc998b27af9a981aa7e91ae8199.jpg)\n",
            "#7 파일 다운로드가 완료되었습니다.\n",
            "#8 이미지 다운로드 (http://mbymadmin.mbym.co.kr/data/upload/12865/7.jpg)\n",
            "#8 파일 다운로드가 완료되었습니다.\n",
            "#9 이미지 다운로드 (https://i.ytimg.com/vi/b3YsLd6O4io/maxresdefault.jpg)\n",
            "#9 파일 다운로드가 완료되었습니다.\n",
            "#10 이미지 다운로드 (https://t1.daumcdn.net/cfile/tistory/250EB04258D72F7B0C)\n",
            "#10 파일 다운로드가 완료되었습니다.\n",
            "#11 이미지 다운로드 (https://t1.daumcdn.net/cfile/tistory/252D854858EB822A0B)\n",
            "#11 파일 다운로드가 완료되었습니다.\n",
            "#12 이미지 다운로드 (https://1.bp.blogspot.com/-zeYqrQNuKgc/W91bV7dODPI/AAAAAAAACMk/ze9G7wLVtaw-j05hFgSEnDzoxWKbukZsgCKgBGAs/s1600/20181102_220145.jpg)\n",
            "#12 파일 다운로드가 완료되었습니다.\n",
            "#13 이미지 다운로드 (https://t1.daumcdn.net/cfile/blog/99E7D1375E09F6C81C)\n",
            "#13 파일 다운로드가 완료되었습니다.\n",
            "#14 이미지 다운로드 (https://modo-phinf.pstatic.net/20170720_291/1500515501326Vteqb_JPEG/mosauav4Ug.jpeg?type=a1100)\n",
            "#14 파일 다운로드가 완료되었습니다.\n",
            "#15 이미지 다운로드 (https://barunchicken.com/wp-content/uploads/2021/04/현미바사삭.jpg)\n",
            "[Info] Issue getting: https://barunchicken.com/wp-content/uploads/2021/04/현미바사삭.jpg\n",
            "[Error] 'ascii' codec can't encode characters in position 32-36: ordinal not in range(128)\n",
            "#15 이미지 다운로드 (https://homecuisine.co.kr/files/attach/images/140/532/098/5957c488675182c1dcadcc728d708a05.jpg)\n",
            "#15 파일 다운로드가 완료되었습니다.\n",
            "#16 이미지 다운로드 (http://upload.inven.co.kr/upload/2014/03/21/bbs/i2488846379.jpg)\n",
            "#16 파일 다운로드가 완료되었습니다.\n",
            "#17 이미지 다운로드 (http://postfiles13.naver.net/MjAxODEwMTZfNDUg/MDAxNTM5NjYwMDcyOTA5.4h4YBFbufb3GFdNFfsotdcSj7s0ee2PyYo2f5_mb8k4g.Y74i7jGTvUXIc1M68hUr8NKvRx8czGR73_2fvKY0VSUg.JPEG.hanbitnuri/맛있는_치킨_추천.jpg?type=w966)\n",
            "[Info] Issue getting: http://postfiles13.naver.net/MjAxODEwMTZfNDUg/MDAxNTM5NjYwMDcyOTA5.4h4YBFbufb3GFdNFfsotdcSj7s0ee2PyYo2f5_mb8k4g.Y74i7jGTvUXIc1M68hUr8NKvRx8czGR73_2fvKY0VSUg.JPEG.hanbitnuri/맛있는_치킨_추천.jpg?type=w966\n",
            "[Error] 'ascii' codec can't encode characters in position 149-151: ordinal not in range(128)\n",
            "#17 이미지 다운로드 (https://i.ytimg.com/vi/CrvmB4W6umM/maxresdefault.jpg)\n",
            "#17 파일 다운로드가 완료되었습니다.\n",
            "#18 이미지 다운로드 (https://i.ytimg.com/vi/ApGuIZA0AU4/maxresdefault.jpg)\n",
            "#18 파일 다운로드가 완료되었습니다.\n",
            "#19 이미지 다운로드 (https://image.ytn.co.kr/general/jpg/2018/0406/201804061040065473_t.jpg)\n",
            "#19 파일 다운로드가 완료되었습니다.\n",
            "#20 이미지 다운로드 (https://t1.daumcdn.net/cfile/tistory/2759E33758A6C01027)\n",
            "#20 파일 다운로드가 완료되었습니다.\n",
            "#21 이미지 다운로드 (https://t1.daumcdn.net/cfile/tistory/2536B347590034B90F)\n",
            "#21 파일 다운로드가 완료되었습니다.\n",
            "#22 이미지 다운로드 (https://image.fmkorea.com/files/attach/new/20200107/3655304/80778144/2579408774/b3a0a22be90d044efc48dbada0013529.jpg)\n",
            "#22 파일 다운로드가 완료되었습니다.\n",
            "#23 이미지 다운로드 (https://homecuisine.co.kr/files/attach/images/140/938/088/0e005ee19561bc50e15feeda1738605e.JPG)\n",
            "#23 파일 다운로드가 완료되었습니다.\n",
            "#24 이미지 다운로드 (https://image.fmkorea.com/files/attach/new/20181214/3655304/717593755/1449279184/8a2fb74eb36bd6903fab67cd10546c9a.jpg)\n",
            "#24 파일 다운로드가 완료되었습니다.\n",
            "#25 이미지 다운로드 (https://i.ytimg.com/vi/kxCnkwV5wtA/maxresdefault.jpg)\n",
            "#25 파일 다운로드가 완료되었습니다.\n",
            "#26 이미지 다운로드 (https://shop.biumfood.com/upload/1606901788image_product045.jpg)\n",
            "#26 파일 다운로드가 완료되었습니다.\n",
            "#27 이미지 다운로드 (https://i.ytimg.com/vi/5nukVwF8cJw/maxresdefault.jpg)\n",
            "#27 파일 다운로드가 완료되었습니다.\n",
            "#28 이미지 다운로드 (https://i.ytimg.com/vi/asciEwftclo/maxresdefault.jpg)\n",
            "#28 파일 다운로드가 완료되었습니다.\n",
            "#29 이미지 다운로드 (https://recipe1.ezmember.co.kr/cache/recipe/2016/04/04/045c79489688426d04c66e2d381600681.jpg)\n",
            "#29 파일 다운로드가 완료되었습니다.\n",
            "#30 이미지 다운로드 (http://image.newdaily.co.kr/site/data/img/2019/02/15/2019021500096_0.jpg)\n",
            "#30 파일 다운로드가 완료되었습니다.\n",
            "#31 이미지 다운로드 (https://lh5.googleusercontent.com/proxy/MrmVlDq_-RDclmu0d4R5yQsL2KBs3msbzXpAkv3KRG5GNjpZk5u_99RzrcIaR-5-uRf2CxGCBxjd3zVrrRYvsBCCZg=s0-d)\n",
            "#31 파일 다운로드가 완료되었습니다.\n",
            "#32 이미지 다운로드 (http://www.urbanbrush.net/web/wp-content/uploads/edd/2017/12/web-20171221034115640756.png)\n",
            "#32 파일 다운로드가 완료되었습니다.\n",
            "[Info] Done. Downloaded 32 images.\n",
            "[Info] Indexing page: 2\n",
            "[Info] Indexed 35 Images on Page 2.\n",
            "===============================================\n",
            "#33 이미지 다운로드 (http://cdnweb01.wikitree.co.kr/webdata/editor/201903/20/img_20190320202619_7fe26bf2.jpg)\n",
            "#33 파일 다운로드가 완료되었습니다.\n",
            "#34 이미지 다운로드 (http://www.urbanbrush.net/web/wp-content/uploads/edd/2017/11/batch_DSC02138-1560x1040.jpg)\n",
            "#34 파일 다운로드가 완료되었습니다.\n",
            "#35 이미지 다운로드 (https://cdn.pixabay.com/photo/2015/02/19/08/26/chicken-641881_960_720.jpg)\n",
            "#35 파일 다운로드가 완료되었습니다.\n",
            "#36 이미지 다운로드 (https://barunchicken.com/wp-content/uploads/2021/04/반반치킨.jpg)\n",
            "[Info] Issue getting: https://barunchicken.com/wp-content/uploads/2021/04/반반치킨.jpg\n",
            "[Error] 'ascii' codec can't encode characters in position 32-35: ordinal not in range(128)\n",
            "#36 이미지 다운로드 (https://recipe1.ezmember.co.kr/cache/recipe/2016/05/17/dc857743ad48782db4c8bcfe5d497be21.jpg)\n",
            "#36 파일 다운로드가 완료되었습니다.\n",
            "#37 이미지 다운로드 (https://t1.daumcdn.net/cfile/tistory/216F1D4258BAA61B0B)\n",
            "#37 파일 다운로드가 완료되었습니다.\n",
            "#38 이미지 다운로드 (https://t1.daumcdn.net/cfile/tistory/241F4235591696D21E)\n",
            "#38 파일 다운로드가 완료되었습니다.\n",
            "#39 이미지 다운로드 (https://img2.quasarzone.com/editor/2020/09/16/b72acbc998b27af9a981aa7e91ae8199.jpg)\n",
            "#39 파일 다운로드가 완료되었습니다.\n",
            "#40 이미지 다운로드 (http://mbymadmin.mbym.co.kr/data/upload/12865/7.jpg)\n",
            "#40 파일 다운로드가 완료되었습니다.\n",
            "===============================================\n",
            "[Info] Done. Downloaded 40 images.\n",
            "[Train Dataset] image_33.jpg\n",
            "[Train Dataset] image_13.jpg\n",
            "[Train Dataset] image_5.jpg\n",
            "[Train Dataset] image_40.jpg\n",
            "[Train Dataset] image_26.jpg\n",
            "[Train Dataset] image_19.jpg\n",
            "[Train Dataset] image_31.jpg\n",
            "[Train Dataset] image_6.jpg\n",
            "[Train Dataset] image_8.jpg\n",
            "[Train Dataset] image_2.jpg\n",
            "[Train Dataset] image_16.jpg\n",
            "[Train Dataset] image_23.JPG\n",
            "[Train Dataset] image_27.jpg\n",
            "[Train Dataset] image_21.jpg\n",
            "[Train Dataset] image_34.jpg\n",
            "[Train Dataset] image_28.jpg\n",
            "[Train Dataset] image_38.jpg\n",
            "[Train Dataset] image_36.jpg\n",
            "[Train Dataset] image_20.jpg\n",
            "[Train Dataset] image_32.png\n",
            "[Train Dataset] image_30.jpg\n",
            "[Train Dataset] image_10.jpg\n",
            "[Train Dataset] image_1.jpg\n",
            "[Train Dataset] image_7.jpg\n",
            "[Train Dataset] image_25.jpg\n",
            "[Train Dataset] image_17.jpg\n",
            "[Train Dataset] image_22.jpg\n",
            "[Train Dataset] image_4.jpg\n",
            "[Train Dataset] image_15.jpg\n",
            "[Train Dataset] image_18.jpg\n",
            "[Test Dataset] image_37.jpg\n",
            "[Test Dataset] image_35.jpg\n",
            "[Test Dataset] image_29.jpg\n",
            "[Test Dataset] image_12.jpg\n",
            "[Test Dataset] image_39.jpg\n",
            "[Test Dataset] image_24.jpg\n",
            "[Test Dataset] image_3.jpg\n",
            "[Test Dataset] image_9.jpg\n",
            "[Test Dataset] image_11.jpg\n",
            "[Test Dataset] image_14.jpeg\n"
          ]
        }
      ]
    },
    {
      "cell_type": "code",
      "source": [
        "query = '삼겹살'\n",
        "downloader.download(query, limit=40,  output_dir='./', adult_filter_off=True, force_replace=False, timeout=60)\n",
        "dataset_split(query, 30)"
      ],
      "metadata": {
        "colab": {
          "base_uri": "https://localhost:8080/"
        },
        "id": "GBTH1cYuP11T",
        "outputId": "63636976-ff3a-4b20-cbb1-50fd387cbfee"
      },
      "execution_count": null,
      "outputs": [
        {
          "output_type": "stream",
          "name": "stdout",
          "text": [
            "[Info] Indexing page: 1\n",
            "[Info] Indexed 35 Images on Page 1.\n",
            "===============================================\n",
            "#1 이미지 다운로드 (http://sites.psu.edu/jiyoonpassionblog/wp-content/uploads/sites/21669/2015/02/20140603181421_7159.jpg)\n",
            "#1 파일 다운로드가 완료되었습니다.\n",
            "#2 이미지 다운로드 (https://mp-seoul-image-production-s3.mangoplate.com/mango_pick/uker6u9xhkr1m8.jpg)\n",
            "#2 파일 다운로드가 완료되었습니다.\n",
            "#3 이미지 다운로드 (https://i.ytimg.com/vi/IsEVv1Jt2Ro/maxresdefault.jpg)\n",
            "#3 파일 다운로드가 완료되었습니다.\n",
            "#4 이미지 다운로드 (https://t1.daumcdn.net/cfile/tistory/9942B3395A3501C304)\n",
            "#4 파일 다운로드가 완료되었습니다.\n",
            "#5 이미지 다운로드 (https://t1.daumcdn.net/cfile/tistory/991DBE3E5B543C6F0C)\n",
            "#5 파일 다운로드가 완료되었습니다.\n",
            "#6 이미지 다운로드 (https://t1.daumcdn.net/cfile/tistory/998F1B465ACB812B34)\n",
            "#6 파일 다운로드가 완료되었습니다.\n",
            "#7 이미지 다운로드 (http://ai.esmplus.com/oksamda/pig/1000/p_5kup_rp2_1000.jpg)\n",
            "#7 파일 다운로드가 완료되었습니다.\n",
            "#8 이미지 다운로드 (https://dd2b3jk3n3xpk.cloudfront.net/26695/reviews/1429376ba976.jpg)\n",
            "#8 파일 다운로드가 완료되었습니다.\n",
            "#9 이미지 다운로드 (https://t1.daumcdn.net/cfile/tistory/99AA5A3E5B543C7016)\n",
            "#9 파일 다운로드가 완료되었습니다.\n",
            "#10 이미지 다운로드 (https://i.pinimg.com/originals/14/48/c4/1448c47d11c3254aa3a1a31623394082.jpg)\n",
            "#10 파일 다운로드가 완료되었습니다.\n",
            "#11 이미지 다운로드 (https://www.tsunagulocal.com/wp-content/uploads/2020/07/IMG_6135-scaled.jpg)\n",
            "#11 파일 다운로드가 완료되었습니다.\n",
            "#12 이미지 다운로드 (https://image.ytn.co.kr/general/jpg/2017/0228/201702280855205490_t.jpg)\n",
            "#12 파일 다운로드가 완료되었습니다.\n",
            "#13 이미지 다운로드 (https://i.ytimg.com/vi/s6x8Et9suhU/maxresdefault.jpg)\n",
            "#13 파일 다운로드가 완료되었습니다.\n",
            "#14 이미지 다운로드 (http://item.ssgcdn.com/39/24/23/item/1000012232439_i1_1200.jpg)\n",
            "#14 파일 다운로드가 완료되었습니다.\n",
            "#15 이미지 다운로드 (https://www.nemopan.com/files/attach/images/2578/091/587/012/35e1df9ac306b27014e9db6a55f141cb.jpg)\n",
            "#15 파일 다운로드가 완료되었습니다.\n",
            "#16 이미지 다운로드 (https://image.fmkorea.com/files/attach/new/20190528/572852415/7956320/1853202201/5c480fe1e5a28de6dca27a127fa645ce.jpg)\n",
            "#16 파일 다운로드가 완료되었습니다.\n",
            "#17 이미지 다운로드 (https://health.chosun.com/site/data/img_dir/2017/03/03/2017030301402_0.jpg)\n",
            "[Info] Issue getting: https://health.chosun.com/site/data/img_dir/2017/03/03/2017030301402_0.jpg\n",
            "[Error] <urlopen error timed out>\n",
            "#17 이미지 다운로드 (https://t1.daumcdn.net/cfile/tistory/99D47F335985D1CA0A)\n",
            "#17 파일 다운로드가 완료되었습니다.\n",
            "#18 이미지 다운로드 (https://i.ytimg.com/vi/zdmmy_a49UM/maxresdefault.jpg)\n"
          ]
        }
      ]
    },
    {
      "cell_type": "code",
      "source": [
        "import torch\n",
        "import torch.nn as nn\n",
        "import torch.optim as optim\n",
        "\n",
        "import torchvision\n",
        "from torchvision import datasets, models, transforms\n",
        "\n",
        "import numpy as np\n",
        "import time\n",
        "\n",
        "\n",
        "device = torch.device(\"cuda:0\" if torch.cuda.is_available() else \"cpu\") # device 객체"
      ],
      "metadata": {
        "id": "0rsxAWRKP9zz"
      },
      "execution_count": null,
      "outputs": []
    },
    {
      "cell_type": "code",
      "source": [
        "# 데이터셋을 불러올 때 사용할 변형(transformation) 객체 정의\n",
        "transforms_train = transforms.Compose([\n",
        "    transforms.Resize((224, 224)),\n",
        "    transforms.RandomHorizontalFlip(), # 데이터 증진(augmentation)\n",
        "    transforms.ToTensor(),\n",
        "    transforms.Normalize([0.485, 0.456, 0.406], [0.229, 0.224, 0.225]) # 정규화(normalization)\n",
        "])\n",
        "\n",
        "transforms_test = transforms.Compose([\n",
        "    transforms.Resize((224, 224)),\n",
        "    transforms.ToTensor(),\n",
        "    transforms.Normalize([0.485, 0.456, 0.406], [0.229, 0.224, 0.225])\n",
        "])\n",
        "\n",
        "data_dir = './custom_dataset'\n",
        "train_datasets = datasets.ImageFolder(os.path.join(data_dir, 'train'), transforms_train)\n",
        "test_datasets = datasets.ImageFolder(os.path.join(data_dir, 'test'), transforms_test)\n",
        "\n",
        "train_dataloader = torch.utils.data.DataLoader(train_datasets, batch_size=4, shuffle=True, num_workers=4)\n",
        "test_dataloader = torch.utils.data.DataLoader(test_datasets, batch_size=4, shuffle=True, num_workers=4)\n",
        "\n",
        "print('학습 데이터셋 크기:', len(train_datasets))\n",
        "print('테스트 데이터셋 크기:', len(test_datasets))\n",
        "\n",
        "class_names = train_datasets.classes\n",
        "print('클래스:', class_names)"
      ],
      "metadata": {
        "id": "t4ZMwqVGP93F"
      },
      "execution_count": null,
      "outputs": []
    },
    {
      "cell_type": "code",
      "source": [
        "def imshow(input, title):\n",
        "    # torch.Tensor를 numpy 객체로 변환\n",
        "    input = input.numpy().transpose((1, 2, 0))\n",
        "    # 이미지 정규화 해제하기\n",
        "    mean = np.array([0.485, 0.456, 0.406])\n",
        "    std = np.array([0.229, 0.224, 0.225])\n",
        "    input = std * input + mean\n",
        "    input = np.clip(input, 0, 1)\n",
        "    # 이미지 출력\n",
        "    plt.imshow(input)\n",
        "    plt.title(title)\n",
        "    plt.show()\n",
        "\n",
        "\n",
        "# 학습 데이터를 배치 단위로 불러오기\n",
        "iterator = iter(train_dataloader)\n",
        "\n",
        "# 현재 배치를 이용해 격자 형태의 이미지를 만들어 시각화\n",
        "inputs, classes = next(iterator)\n",
        "out = torchvision.utils.make_grid(inputs)\n",
        "imshow(out, title=[class_names[x] for x in classes])"
      ],
      "metadata": {
        "id": "KqZwKTzEP96J"
      },
      "execution_count": null,
      "outputs": []
    },
    {
      "cell_type": "code",
      "source": [
        "model = models.resnet34(pretrained=True)\n",
        "num_features = model.fc.in_features\n",
        "# 전이 학습(transfer learning): 모델의 출력 뉴런 수를 3개로 교체하여 마지막 레이어 다시 학습\n",
        "model.fc = nn.Linear(num_features, 3)\n",
        "model = model.to(device)\n",
        "\n",
        "criterion = nn.CrossEntropyLoss()\n",
        "optimizer = optim.SGD(model.parameters(), lr=0.001, momentum=0.9)"
      ],
      "metadata": {
        "id": "O9gXtuecQDai"
      },
      "execution_count": null,
      "outputs": []
    },
    {
      "cell_type": "code",
      "source": [
        "num_epochs = 50\n",
        "model.train()\n",
        "start_time = time.time()\n",
        "\n",
        "# 전체 반복(epoch) 수 만큼 반복하며\n",
        "for epoch in range(num_epochs):\n",
        "    running_loss = 0.\n",
        "    running_corrects = 0\n",
        "\n",
        "    # 배치 단위로 학습 데이터 불러오기\n",
        "    for inputs, labels in train_dataloader:\n",
        "        inputs = inputs.to(device)\n",
        "        labels = labels.to(device)\n",
        "\n",
        "        # 모델에 입력(forward)하고 결과 계산\n",
        "        optimizer.zero_grad()\n",
        "        outputs = model(inputs)\n",
        "        _, preds = torch.max(outputs, 1)\n",
        "        loss = criterion(outputs, labels)\n",
        "\n",
        "        # 역전파를 통해 기울기(gradient) 계산 및 학습 진행\n",
        "        loss.backward()\n",
        "        optimizer.step()\n",
        "\n",
        "        running_loss += loss.item() * inputs.size(0)\n",
        "        running_corrects += torch.sum(preds == labels.data)\n",
        "\n",
        "    epoch_loss = running_loss / len(train_datasets)\n",
        "    epoch_acc = running_corrects / len(train_datasets) * 100.\n",
        "\n",
        "    # 학습 과정 중에 결과 출력\n",
        "    print('#{} Loss: {:.4f} Acc: {:.4f}% Time: {:.4f}s'.format(epoch, epoch_loss, epoch_acc, time.time() - start_time))"
      ],
      "metadata": {
        "id": "X-eVr9jYQDd6"
      },
      "execution_count": null,
      "outputs": []
    },
    {
      "cell_type": "code",
      "source": [
        "model.eval()\n",
        "start_time = time.time()\n",
        "\n",
        "with torch.no_grad():\n",
        "    running_loss = 0.\n",
        "    running_corrects = 0\n",
        "\n",
        "    for inputs, labels in test_dataloader:\n",
        "        inputs = inputs.to(device)\n",
        "        labels = labels.to(device)\n",
        "\n",
        "        outputs = model(inputs)\n",
        "        _, preds = torch.max(outputs, 1)\n",
        "        loss = criterion(outputs, labels)\n",
        "\n",
        "        running_loss += loss.item() * inputs.size(0)\n",
        "        running_corrects += torch.sum(preds == labels.data)\n",
        "\n",
        "        # 한 배치의 첫 번째 이미지에 대하여 결과 시각화\n",
        "        print(f'[예측 결과: {class_names[preds[0]]}] (실제 정답: {class_names[labels.data[0]]})')\n",
        "        imshow(inputs.cpu().data[0], title='예측 결과: ' + class_names[preds[0]])\n",
        "\n",
        "    epoch_loss = running_loss / len(test_datasets)\n",
        "    epoch_acc = running_corrects / len(test_datasets) * 100.\n",
        "    print('[Test Phase] Loss: {:.4f} Acc: {:.4f}% Time: {:.4f}s'.format(epoch_loss, epoch_acc, time.time() - start_time))"
      ],
      "metadata": {
        "id": "8aMQif54QDg5"
      },
      "execution_count": null,
      "outputs": []
    },
    {
      "cell_type": "code",
      "source": [
        "# 테스트용 이미지 다운로드하기\n",
        "!wget https://upload.wikimedia.org/wikipedia/commons/f/f1/Don_Lee_by_Gage_Skidmore.jpg -O test_image.jpg"
      ],
      "metadata": {
        "id": "odubytAjQHkj"
      },
      "execution_count": null,
      "outputs": []
    },
    {
      "cell_type": "code",
      "source": [
        "from PIL import Image\n",
        "\n",
        "\n",
        "image = Image.open('test_image.jpg')\n",
        "image = transforms_test(image).unsqueeze(0).to(device)\n",
        "\n",
        "with torch.no_grad():\n",
        "    outputs = model(image)\n",
        "    _, preds = torch.max(outputs, 1)\n",
        "    imshow(image.cpu().data[0], title='예측 결과: ' + class_names[preds[0]])"
      ],
      "metadata": {
        "id": "eT6rCpntQHvN"
      },
      "execution_count": null,
      "outputs": []
    },
    {
      "cell_type": "code",
      "source": [
        "# 필요한 라이브러리 설치하기\n",
        "!pip install flask-ngrok"
      ],
      "metadata": {
        "id": "wTBIhm__QH7o"
      },
      "execution_count": null,
      "outputs": []
    },
    {
      "cell_type": "code",
      "source": [
        "import io\n",
        "from flask_ngrok import run_with_ngrok\n",
        "from flask import Flask, jsonify, request\n",
        "\n",
        "\n",
        "# 이미지를 읽어 결과를 반환하는 함수\n",
        "def get_prediction(image_bytes):\n",
        "    image = Image.open(io.BytesIO(image_bytes))\n",
        "    image = transforms_test(image).unsqueeze(0).to(device)\n",
        "\n",
        "    with torch.no_grad():\n",
        "        outputs = model(image)\n",
        "        _, preds = torch.max(outputs, 1)\n",
        "        imshow(image.cpu().data[0], title='예측 결과: ' + class_names[preds[0]])\n",
        "\n",
        "    return class_names[preds[0]]\n",
        "\n",
        "\n",
        "app = Flask(__name__)\n",
        "\n",
        "\n",
        "@app.route('/', methods=['POST'])\n",
        "def predict():\n",
        "    if request.method == 'POST':\n",
        "        # 이미지 바이트 데이터 받아오기\n",
        "        file = request.files['file']\n",
        "        image_bytes = file.read()\n",
        "\n",
        "        # 분류 결과 확인 및 클라이언트에게 결과 반환\n",
        "        class_name = get_prediction(image_bytes=image_bytes)\n",
        "        print(\"결과:\", {'class_name': class_name})\n",
        "        return jsonify({'class_name': class_name})"
      ],
      "metadata": {
        "id": "Jz5HFzPdQL8o"
      },
      "execution_count": null,
      "outputs": []
    },
    {
      "cell_type": "code",
      "source": [
        "run_with_ngrok(app)\n",
        "app.run()"
      ],
      "metadata": {
        "id": "mQaVafkgQMA3"
      },
      "execution_count": null,
      "outputs": []
    },
    {
      "cell_type": "markdown",
      "source": [
        "* 테스트 코드\n",
        "\n",
        "-curl -X POST -F file=@{이미지 파일명} {Ngrok 서버 주소}"
      ],
      "metadata": {
        "id": "xesRy3zmQQ15"
      }
    }
  ]
}